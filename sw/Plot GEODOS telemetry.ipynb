{
 "cells": [
  {
   "cell_type": "code",
   "execution_count": null,
   "id": "5ab20286-a137-4281-8563-82ff0b972811",
   "metadata": {},
   "outputs": [],
   "source": [
    "import pandas as pd\n",
    "import numpy as np\n",
    "import json\n",
    "import glob"
   ]
  },
  {
   "cell_type": "code",
   "execution_count": null,
   "id": "cb64966f-8c13-42fe-babe-20ae32078c48",
   "metadata": {},
   "outputs": [],
   "source": [
    "def payloads_from_json_log_single(filename):\n",
    "    with open(filename, 'r') as f:\n",
    "        for line in f:\n",
    "            obj = json.loads(line)\n",
    "            yield {\n",
    "                \"device_id\": obj[\"end_device_ids\"][\"device_id\"],\n",
    "                \"received_at\": obj[\"received_at\"],\n",
    "                \"gateway_id\": [m[\"gateway_ids\"][\"gateway_id\"] for m in obj[\"uplink_message\"][\"rx_metadata\"]],\n",
    "                **obj[\"uplink_message\"].get(\"decoded_payload\", {})\n",
    "            } \n",
    "            \n",
    "\n",
    "def payloads_from_json_log(fname_pattern):\n",
    "    for fname in glob.glob(fname_pattern):\n",
    "        yield from payloads_from_json_log_single(fname)"
   ]
  },
  {
   "cell_type": "code",
   "execution_count": null,
   "id": "2e2fa1ac-01c8-4f06-b56f-701bf4dc57ca",
   "metadata": {},
   "outputs": [],
   "source": [
    "df = pd.DataFrame(payloads_from_json_log(\"/storage/stations/GEODOS/*.json\"))\n",
    "df[\"received_at\"] = pd.to_datetime(df[\"received_at\"])"
   ]
  },
  {
   "cell_type": "code",
   "execution_count": null,
   "id": "dcf65cb9-8d10-47c6-a431-7c5f7632f84a",
   "metadata": {},
   "outputs": [],
   "source": [
    "df"
   ]
  },
  {
   "cell_type": "code",
   "execution_count": null,
   "id": "eb4373e9-83ed-4735-a303-367dbe02b46d",
   "metadata": {},
   "outputs": [],
   "source": [
    "# iterate over unique device IDs seen in logged messages\n",
    "for dev_id in np.unique(df[\"device_id\"]):\n",
    "    # select rows from that particular device\n",
    "    df_filtered = df[df[\"device_id\"] == dev_id]\n",
    "    \n",
    "    # some plots...\n",
    "    df_filtered.plot(\"received_at\", \"V\", figsize=(25, 5), title=dev_id)\n",
    "    df_filtered.plot(\"received_at\", \"°C\", figsize=(25, 5), title=dev_id)"
   ]
  }
 ],
 "metadata": {
  "kernelspec": {
   "display_name": "Python 3",
   "language": "python",
   "name": "ipython_py3"
  },
  "language_info": {
   "codemirror_mode": {
    "name": "ipython",
    "version": 3
   },
   "file_extension": ".py",
   "mimetype": "text/x-python",
   "name": "python",
   "nbconvert_exporter": "python",
   "pygments_lexer": "ipython3",
   "version": "3.8.9"
  }
 },
 "nbformat": 4,
 "nbformat_minor": 5
}
